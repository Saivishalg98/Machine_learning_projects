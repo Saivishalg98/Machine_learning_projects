{
 "cells": [
  {
   "cell_type": "code",
   "execution_count": 81,
   "metadata": {},
   "outputs": [],
   "source": [
    "# importing libraries for data manipulation\n",
    "import numpy as np\n",
    "import pandas as pd\n",
    "\n",
    "#importing libraries for data visualization\n",
    "import matplotlib.pyplot as plt\n",
    "import seaborn as sns\n",
    "\n",
    "%matplotlib inline\n",
    "\n",
    "# importing libraries for data split model building \n",
    "from sklearn.model_selection import train_test_split \n",
    "from sklearn.ensemble import RandomForestClassifier\n",
    "\n",
    "# importing library to scale the values\n",
    "from sklearn.preprocessing import StandardScaler\n",
    "\n",
    "\n",
    "#importing libraries for model evaluation\n",
    "from sklearn.metrics import confusion_matrix,classification_report,accuracy_score\n",
    "from sklearn.metrics import f1_score\n",
    "\n",
    "#importing libraries for ROC-AUC score\n",
    "from sklearn.metrics import roc_auc_score\n",
    "from sklearn.metrics import roc_curve"
   ]
  },
  {
   "cell_type": "code",
   "execution_count": 66,
   "metadata": {},
   "outputs": [],
   "source": [
    "df = pd.read_csv('Predict_Loan_Approval_new.csv',index_col = 0)"
   ]
  },
  {
   "cell_type": "code",
   "execution_count": 67,
   "metadata": {},
   "outputs": [
    {
     "data": {
      "text/html": [
       "<div>\n",
       "<style scoped>\n",
       "    .dataframe tbody tr th:only-of-type {\n",
       "        vertical-align: middle;\n",
       "    }\n",
       "\n",
       "    .dataframe tbody tr th {\n",
       "        vertical-align: top;\n",
       "    }\n",
       "\n",
       "    .dataframe thead th {\n",
       "        text-align: right;\n",
       "    }\n",
       "</style>\n",
       "<table border=\"1\" class=\"dataframe\">\n",
       "  <thead>\n",
       "    <tr style=\"text-align: right;\">\n",
       "      <th></th>\n",
       "      <th>Gender</th>\n",
       "      <th>Married</th>\n",
       "      <th>Dependents</th>\n",
       "      <th>Education</th>\n",
       "      <th>Self_Employed</th>\n",
       "      <th>LoanAmount</th>\n",
       "      <th>Credit_History</th>\n",
       "      <th>Property_Area</th>\n",
       "      <th>Loan_Status</th>\n",
       "      <th>total_income</th>\n",
       "      <th>Loan_Amount_Term_Years</th>\n",
       "    </tr>\n",
       "  </thead>\n",
       "  <tbody>\n",
       "    <tr>\n",
       "      <th>0</th>\n",
       "      <td>Male</td>\n",
       "      <td>Yes</td>\n",
       "      <td>1</td>\n",
       "      <td>Graduate</td>\n",
       "      <td>No</td>\n",
       "      <td>128</td>\n",
       "      <td>1</td>\n",
       "      <td>Rural</td>\n",
       "      <td>N</td>\n",
       "      <td>6091.0</td>\n",
       "      <td>30.0</td>\n",
       "    </tr>\n",
       "    <tr>\n",
       "      <th>1</th>\n",
       "      <td>Male</td>\n",
       "      <td>Yes</td>\n",
       "      <td>0</td>\n",
       "      <td>Graduate</td>\n",
       "      <td>Yes</td>\n",
       "      <td>66</td>\n",
       "      <td>1</td>\n",
       "      <td>Urban</td>\n",
       "      <td>Y</td>\n",
       "      <td>3000.0</td>\n",
       "      <td>30.0</td>\n",
       "    </tr>\n",
       "    <tr>\n",
       "      <th>2</th>\n",
       "      <td>Male</td>\n",
       "      <td>Yes</td>\n",
       "      <td>0</td>\n",
       "      <td>Not Graduate</td>\n",
       "      <td>No</td>\n",
       "      <td>120</td>\n",
       "      <td>1</td>\n",
       "      <td>Urban</td>\n",
       "      <td>Y</td>\n",
       "      <td>4941.0</td>\n",
       "      <td>30.0</td>\n",
       "    </tr>\n",
       "    <tr>\n",
       "      <th>3</th>\n",
       "      <td>Male</td>\n",
       "      <td>No</td>\n",
       "      <td>0</td>\n",
       "      <td>Graduate</td>\n",
       "      <td>No</td>\n",
       "      <td>141</td>\n",
       "      <td>1</td>\n",
       "      <td>Urban</td>\n",
       "      <td>Y</td>\n",
       "      <td>6000.0</td>\n",
       "      <td>30.0</td>\n",
       "    </tr>\n",
       "    <tr>\n",
       "      <th>4</th>\n",
       "      <td>Male</td>\n",
       "      <td>Yes</td>\n",
       "      <td>2</td>\n",
       "      <td>Graduate</td>\n",
       "      <td>Yes</td>\n",
       "      <td>267</td>\n",
       "      <td>1</td>\n",
       "      <td>Urban</td>\n",
       "      <td>Y</td>\n",
       "      <td>9613.0</td>\n",
       "      <td>30.0</td>\n",
       "    </tr>\n",
       "  </tbody>\n",
       "</table>\n",
       "</div>"
      ],
      "text/plain": [
       "  Gender Married  Dependents     Education Self_Employed  LoanAmount  \\\n",
       "0   Male     Yes           1      Graduate            No         128   \n",
       "1   Male     Yes           0      Graduate           Yes          66   \n",
       "2   Male     Yes           0  Not Graduate            No         120   \n",
       "3   Male      No           0      Graduate            No         141   \n",
       "4   Male     Yes           2      Graduate           Yes         267   \n",
       "\n",
       "   Credit_History Property_Area Loan_Status  total_income  \\\n",
       "0               1         Rural           N        6091.0   \n",
       "1               1         Urban           Y        3000.0   \n",
       "2               1         Urban           Y        4941.0   \n",
       "3               1         Urban           Y        6000.0   \n",
       "4               1         Urban           Y        9613.0   \n",
       "\n",
       "   Loan_Amount_Term_Years  \n",
       "0                    30.0  \n",
       "1                    30.0  \n",
       "2                    30.0  \n",
       "3                    30.0  \n",
       "4                    30.0  "
      ]
     },
     "execution_count": 67,
     "metadata": {},
     "output_type": "execute_result"
    }
   ],
   "source": [
    "df.head()"
   ]
  },
  {
   "cell_type": "code",
   "execution_count": 68,
   "metadata": {},
   "outputs": [],
   "source": [
    "df = df[df['total_income'] < 25000]"
   ]
  },
  {
   "cell_type": "code",
   "execution_count": 69,
   "metadata": {},
   "outputs": [
    {
     "data": {
      "text/plain": [
       "0"
      ]
     },
     "execution_count": 69,
     "metadata": {},
     "output_type": "execute_result"
    }
   ],
   "source": [
    "df.isnull().sum().sum()"
   ]
  },
  {
   "cell_type": "code",
   "execution_count": 70,
   "metadata": {},
   "outputs": [],
   "source": [
    "# splitting the dataframe\n",
    "X = df.loc[:,df.columns != 'Loan_Status'] \n",
    "y = df.loc[:,df.columns == 'Loan_Status']"
   ]
  },
  {
   "cell_type": "code",
   "execution_count": 71,
   "metadata": {},
   "outputs": [],
   "source": [
    "#creating dummies of the data set\n",
    "X = pd.get_dummies(X,drop_first=True)\n",
    "# X.head()\n",
    "y = pd.get_dummies(y,drop_first=True)\n",
    "# y.head()"
   ]
  },
  {
   "cell_type": "markdown",
   "metadata": {},
   "source": [
    "#### model building"
   ]
  },
  {
   "cell_type": "code",
   "execution_count": 72,
   "metadata": {},
   "outputs": [],
   "source": [
    "sscaler = StandardScaler() #initializing the scaler function"
   ]
  },
  {
   "cell_type": "code",
   "execution_count": 73,
   "metadata": {},
   "outputs": [],
   "source": [
    "scaled_data = sscaler.fit_transform(X) #fitting and trasforming the data in to common scale\n",
    "X_new = pd.DataFrame(scaled_data,columns = X.columns) # creating a dataframe using \n",
    "                                                      #the scaled values and original data frame column names"
   ]
  },
  {
   "cell_type": "code",
   "execution_count": 74,
   "metadata": {},
   "outputs": [
    {
     "data": {
      "text/html": [
       "<div>\n",
       "<style scoped>\n",
       "    .dataframe tbody tr th:only-of-type {\n",
       "        vertical-align: middle;\n",
       "    }\n",
       "\n",
       "    .dataframe tbody tr th {\n",
       "        vertical-align: top;\n",
       "    }\n",
       "\n",
       "    .dataframe thead th {\n",
       "        text-align: right;\n",
       "    }\n",
       "</style>\n",
       "<table border=\"1\" class=\"dataframe\">\n",
       "  <thead>\n",
       "    <tr style=\"text-align: right;\">\n",
       "      <th></th>\n",
       "      <th>Dependents</th>\n",
       "      <th>LoanAmount</th>\n",
       "      <th>Credit_History</th>\n",
       "      <th>total_income</th>\n",
       "      <th>Loan_Amount_Term_Years</th>\n",
       "      <th>Gender_Male</th>\n",
       "      <th>Married_Yes</th>\n",
       "      <th>Education_Not Graduate</th>\n",
       "      <th>Self_Employed_Yes</th>\n",
       "      <th>Property_Area_Semiurban</th>\n",
       "      <th>Property_Area_Urban</th>\n",
       "    </tr>\n",
       "  </thead>\n",
       "  <tbody>\n",
       "    <tr>\n",
       "      <th>0</th>\n",
       "      <td>0.226650</td>\n",
       "      <td>-0.196998</td>\n",
       "      <td>0.409253</td>\n",
       "      <td>-0.099243</td>\n",
       "      <td>0.273365</td>\n",
       "      <td>0.470797</td>\n",
       "      <td>0.737546</td>\n",
       "      <td>-0.507242</td>\n",
       "      <td>-0.398653</td>\n",
       "      <td>-0.807198</td>\n",
       "      <td>-0.677098</td>\n",
       "    </tr>\n",
       "    <tr>\n",
       "      <th>1</th>\n",
       "      <td>-0.758967</td>\n",
       "      <td>-0.998960</td>\n",
       "      <td>0.409253</td>\n",
       "      <td>-0.932559</td>\n",
       "      <td>0.273365</td>\n",
       "      <td>0.470797</td>\n",
       "      <td>0.737546</td>\n",
       "      <td>-0.507242</td>\n",
       "      <td>2.508447</td>\n",
       "      <td>-0.807198</td>\n",
       "      <td>1.476891</td>\n",
       "    </tr>\n",
       "    <tr>\n",
       "      <th>2</th>\n",
       "      <td>-0.758967</td>\n",
       "      <td>-0.300477</td>\n",
       "      <td>0.409253</td>\n",
       "      <td>-0.409276</td>\n",
       "      <td>0.273365</td>\n",
       "      <td>0.470797</td>\n",
       "      <td>0.737546</td>\n",
       "      <td>1.971446</td>\n",
       "      <td>-0.398653</td>\n",
       "      <td>-0.807198</td>\n",
       "      <td>1.476891</td>\n",
       "    </tr>\n",
       "    <tr>\n",
       "      <th>3</th>\n",
       "      <td>-0.758967</td>\n",
       "      <td>-0.028844</td>\n",
       "      <td>0.409253</td>\n",
       "      <td>-0.123776</td>\n",
       "      <td>0.273365</td>\n",
       "      <td>0.470797</td>\n",
       "      <td>-1.355848</td>\n",
       "      <td>-0.507242</td>\n",
       "      <td>-0.398653</td>\n",
       "      <td>-0.807198</td>\n",
       "      <td>1.476891</td>\n",
       "    </tr>\n",
       "    <tr>\n",
       "      <th>4</th>\n",
       "      <td>1.212268</td>\n",
       "      <td>1.600951</td>\n",
       "      <td>0.409253</td>\n",
       "      <td>0.850269</td>\n",
       "      <td>0.273365</td>\n",
       "      <td>0.470797</td>\n",
       "      <td>0.737546</td>\n",
       "      <td>-0.507242</td>\n",
       "      <td>2.508447</td>\n",
       "      <td>-0.807198</td>\n",
       "      <td>1.476891</td>\n",
       "    </tr>\n",
       "  </tbody>\n",
       "</table>\n",
       "</div>"
      ],
      "text/plain": [
       "   Dependents  LoanAmount  Credit_History  total_income  \\\n",
       "0    0.226650   -0.196998        0.409253     -0.099243   \n",
       "1   -0.758967   -0.998960        0.409253     -0.932559   \n",
       "2   -0.758967   -0.300477        0.409253     -0.409276   \n",
       "3   -0.758967   -0.028844        0.409253     -0.123776   \n",
       "4    1.212268    1.600951        0.409253      0.850269   \n",
       "\n",
       "   Loan_Amount_Term_Years  Gender_Male  Married_Yes  Education_Not Graduate  \\\n",
       "0                0.273365     0.470797     0.737546               -0.507242   \n",
       "1                0.273365     0.470797     0.737546               -0.507242   \n",
       "2                0.273365     0.470797     0.737546                1.971446   \n",
       "3                0.273365     0.470797    -1.355848               -0.507242   \n",
       "4                0.273365     0.470797     0.737546               -0.507242   \n",
       "\n",
       "   Self_Employed_Yes  Property_Area_Semiurban  Property_Area_Urban  \n",
       "0          -0.398653                -0.807198            -0.677098  \n",
       "1           2.508447                -0.807198             1.476891  \n",
       "2          -0.398653                -0.807198             1.476891  \n",
       "3          -0.398653                -0.807198             1.476891  \n",
       "4           2.508447                -0.807198             1.476891  "
      ]
     },
     "execution_count": 74,
     "metadata": {},
     "output_type": "execute_result"
    }
   ],
   "source": [
    "X_new.head()"
   ]
  },
  {
   "cell_type": "code",
   "execution_count": 104,
   "metadata": {},
   "outputs": [],
   "source": [
    "#splitting the dataset into train and split \n",
    "X_train, X_test, y_train, y_test = train_test_split(X_new, y, test_size=0.20, random_state=3300)"
   ]
  },
  {
   "cell_type": "code",
   "execution_count": 105,
   "metadata": {},
   "outputs": [],
   "source": [
    "random_forest = RandomForestClassifier()\n",
    "random_forest = random_forest.fit(X_train.values,y_train.values.ravel())\n",
    "y_pred = random_forest.predict(X_test)"
   ]
  },
  {
   "cell_type": "code",
   "execution_count": 106,
   "metadata": {},
   "outputs": [
    {
     "data": {
      "text/plain": [
       "0.9052631578947369"
      ]
     },
     "execution_count": 106,
     "metadata": {},
     "output_type": "execute_result"
    }
   ],
   "source": [
    "accuracy_score(y_test,y_pred)"
   ]
  },
  {
   "cell_type": "code",
   "execution_count": 107,
   "metadata": {},
   "outputs": [
    {
     "data": {
      "text/plain": [
       "array([[18,  6],\n",
       "       [ 3, 68]], dtype=int64)"
      ]
     },
     "execution_count": 107,
     "metadata": {},
     "output_type": "execute_result"
    }
   ],
   "source": [
    "confusion_matrix(y_test,y_pred)"
   ]
  },
  {
   "cell_type": "code",
   "execution_count": 108,
   "metadata": {},
   "outputs": [
    {
     "name": "stdout",
     "output_type": "stream",
     "text": [
      "              precision    recall  f1-score   support\n",
      "\n",
      "           0       0.86      0.75      0.80        24\n",
      "           1       0.92      0.96      0.94        71\n",
      "\n",
      "    accuracy                           0.91        95\n",
      "   macro avg       0.89      0.85      0.87        95\n",
      "weighted avg       0.90      0.91      0.90        95\n",
      " \n",
      "\n"
     ]
    }
   ],
   "source": [
    "print(classification_report(y_test,y_pred),'\\n')"
   ]
  },
  {
   "cell_type": "code",
   "execution_count": 109,
   "metadata": {},
   "outputs": [
    {
     "data": {
      "text/plain": [
       "0.8538732394366196"
      ]
     },
     "execution_count": 109,
     "metadata": {},
     "output_type": "execute_result"
    }
   ],
   "source": [
    "roc_auc_score(y_test,y_pred)"
   ]
  },
  {
   "cell_type": "code",
   "execution_count": 110,
   "metadata": {},
   "outputs": [
    {
     "data": {
      "text/plain": [
       "0.9379310344827587"
      ]
     },
     "execution_count": 110,
     "metadata": {},
     "output_type": "execute_result"
    }
   ],
   "source": [
    "f1_score(y_test,y_pred)"
   ]
  },
  {
   "cell_type": "code",
   "execution_count": 111,
   "metadata": {},
   "outputs": [
    {
     "data": {
      "text/plain": [
       "<matplotlib.axes._subplots.AxesSubplot at 0x11a3a6b3108>"
      ]
     },
     "execution_count": 111,
     "metadata": {},
     "output_type": "execute_result"
    },
    {
     "data": {
      "image/png": "[encoded data removed]",
      "text/plain": [
       "<Figure size 432x288 with 1 Axes>"
      ]
     },
     "metadata": {
      "needs_background": "light"
     },
     "output_type": "display_data"
    }
   ],
   "source": [
    "sns.barplot(random_forest.feature_importances_,X_new.columns)"
   ]
  },
  {
   "cell_type": "code",
   "execution_count": 113,
   "metadata": {},
   "outputs": [],
   "source": [
    "X_ls = X_new[['LoanAmount', 'Credit_History', 'total_income',\n",
    "       'Loan_Amount_Term_Years','Property_Area_Urban','Dependents']]"
   ]
  },
  {
   "cell_type": "code",
   "execution_count": 114,
   "metadata": {},
   "outputs": [],
   "source": [
    "#splitting the dataset into train and split \n",
    "X_train, X_test, y_train, y_test = train_test_split(X_ls, y, test_size=0.20, random_state=3300)"
   ]
  },
  {
   "cell_type": "code",
   "execution_count": 115,
   "metadata": {},
   "outputs": [],
   "source": [
    "random_forest_1 = RandomForestClassifier()\n",
    "random_forest_1 = random_forest_1.fit(X_train.values,y_train.values.ravel())\n",
    "y_pred = random_forest_1.predict(X_test)"
   ]
  },
  {
   "cell_type": "code",
   "execution_count": 116,
   "metadata": {},
   "outputs": [
    {
     "data": {
      "text/plain": [
       "0.8631578947368421"
      ]
     },
     "execution_count": 116,
     "metadata": {},
     "output_type": "execute_result"
    }
   ],
   "source": [
    "accuracy_score(y_test,y_pred)"
   ]
  },
  {
   "cell_type": "code",
   "execution_count": 117,
   "metadata": {},
   "outputs": [
    {
     "data": {
      "text/plain": [
       "array([[17,  7],\n",
       "       [ 6, 65]], dtype=int64)"
      ]
     },
     "execution_count": 117,
     "metadata": {},
     "output_type": "execute_result"
    }
   ],
   "source": [
    "confusion_matrix(y_test,y_pred)"
   ]
  },
  {
   "cell_type": "code",
   "execution_count": 118,
   "metadata": {},
   "outputs": [
    {
     "name": "stdout",
     "output_type": "stream",
     "text": [
      "              precision    recall  f1-score   support\n",
      "\n",
      "           0       0.74      0.71      0.72        24\n",
      "           1       0.90      0.92      0.91        71\n",
      "\n",
      "    accuracy                           0.86        95\n",
      "   macro avg       0.82      0.81      0.82        95\n",
      "weighted avg       0.86      0.86      0.86        95\n",
      " \n",
      "\n"
     ]
    }
   ],
   "source": [
    "print(classification_report(y_test,y_pred),'\\n')"
   ]
  },
  {
   "cell_type": "code",
   "execution_count": 119,
   "metadata": {},
   "outputs": [
    {
     "data": {
      "text/plain": [
       "0.8119131455399061"
      ]
     },
     "execution_count": 119,
     "metadata": {},
     "output_type": "execute_result"
    }
   ],
   "source": [
    "roc_auc_score(y_test,y_pred)"
   ]
  },
  {
   "cell_type": "code",
   "execution_count": 120,
   "metadata": {},
   "outputs": [
    {
     "data": {
      "text/plain": [
       "0.9090909090909091"
      ]
     },
     "execution_count": 120,
     "metadata": {},
     "output_type": "execute_result"
    }
   ],
   "source": [
    "f1_score(y_test,y_pred)"
   ]
  },
  {
   "cell_type": "code",
   "execution_count": null,
   "metadata": {},
   "outputs": [],
   "source": []
  },
  {
   "cell_type": "code",
   "execution_count": null,
   "metadata": {},
   "outputs": [],
   "source": []
  },
  {
   "cell_type": "code",
   "execution_count": 121,
   "metadata": {},
   "outputs": [
    {
     "data": {
      "image/png": "[encoded data removed]",
      "text/plain": [
       "<Figure size 1152x720 with 1 Axes>"
      ]
     },
     "metadata": {
      "needs_background": "light"
     },
     "output_type": "display_data"
    }
   ],
   "source": [
    "random_forest_g = roc_auc_score(y_test, random_forest_1.predict(X_test))\n",
    "fpr_log, tpr_log, thresholds_log = roc_curve(y_test, random_forest_1.predict_proba(X_test)[:,1])\n",
    "plt.figure(figsize=(16,10))\n",
    "plt.plot(fpr_log, tpr_log, label='random_forest (area = %0.2f)' % random_forest_g)\n",
    "plt.plot([0, 1], [0, 1],'r--')\n",
    "plt.xlim([0.0, 1.0])\n",
    "plt.ylim([0.0, 1.05])\n",
    "plt.xlabel('False Positive Rate')\n",
    "plt.ylabel('True Positive Rate')\n",
    "plt.title('Receiver operating characteristic')\n",
    "plt.legend(loc=\"lower right\")\n",
    "# plt.savefig('Log_ROC')\n",
    "plt.show()"
   ]
  },
  {
   "cell_type": "code",
   "execution_count": null,
   "metadata": {},
   "outputs": [],
   "source": []
  },
  {
   "cell_type": "code",
   "execution_count": null,
   "metadata": {},
   "outputs": [],
   "source": []
  },
  {
   "cell_type": "code",
   "execution_count": null,
   "metadata": {},
   "outputs": [],
   "source": []
  },
  {
   "cell_type": "markdown",
   "metadata": {},
   "source": [
    "## RandomSearch CV Model"
   ]
  },
  {
   "cell_type": "code",
   "execution_count": 122,
   "metadata": {},
   "outputs": [],
   "source": [
    "df = pd.read_csv('Predict_Loan_Approval_new.csv',index_col = 0)\n",
    "df = df[df['total_income'] < 25000]\n",
    "# splitting the dataframe\n",
    "X = df.loc[:,df.columns != 'Loan_Status'] \n",
    "y = df.loc[:,df.columns == 'Loan_Status']"
   ]
  },
  {
   "cell_type": "code",
   "execution_count": 123,
   "metadata": {},
   "outputs": [],
   "source": [
    "#creating dummies of the data set\n",
    "X = pd.get_dummies(X,drop_first=True)\n",
    "# X.head()\n",
    "y = pd.get_dummies(y,drop_first=True)\n",
    "# y.head()"
   ]
  },
  {
   "cell_type": "code",
   "execution_count": 124,
   "metadata": {},
   "outputs": [],
   "source": [
    "sscaler = StandardScaler() #initializing the scaler function\n",
    "scaled_data = sscaler.fit_transform(X) #fitting and trasforming the data in to common scale\n",
    "scaled_df = pd.DataFrame(scaled_data,columns = X.columns) # creating a dataframe using \n",
    "                                                      #the scaled values and original data frame column names"
   ]
  },
  {
   "cell_type": "code",
   "execution_count": 125,
   "metadata": {},
   "outputs": [
    {
     "data": {
      "text/html": [
       "<div>\n",
       "<style scoped>\n",
       "    .dataframe tbody tr th:only-of-type {\n",
       "        vertical-align: middle;\n",
       "    }\n",
       "\n",
       "    .dataframe tbody tr th {\n",
       "        vertical-align: top;\n",
       "    }\n",
       "\n",
       "    .dataframe thead th {\n",
       "        text-align: right;\n",
       "    }\n",
       "</style>\n",
       "<table border=\"1\" class=\"dataframe\">\n",
       "  <thead>\n",
       "    <tr style=\"text-align: right;\">\n",
       "      <th></th>\n",
       "      <th>Dependents</th>\n",
       "      <th>LoanAmount</th>\n",
       "      <th>Credit_History</th>\n",
       "      <th>total_income</th>\n",
       "      <th>Loan_Amount_Term_Years</th>\n",
       "      <th>Gender_Male</th>\n",
       "      <th>Married_Yes</th>\n",
       "      <th>Education_Not Graduate</th>\n",
       "      <th>Self_Employed_Yes</th>\n",
       "      <th>Property_Area_Semiurban</th>\n",
       "      <th>Property_Area_Urban</th>\n",
       "    </tr>\n",
       "  </thead>\n",
       "  <tbody>\n",
       "    <tr>\n",
       "      <th>0</th>\n",
       "      <td>0.226650</td>\n",
       "      <td>-0.196998</td>\n",
       "      <td>0.409253</td>\n",
       "      <td>-0.099243</td>\n",
       "      <td>0.273365</td>\n",
       "      <td>0.470797</td>\n",
       "      <td>0.737546</td>\n",
       "      <td>-0.507242</td>\n",
       "      <td>-0.398653</td>\n",
       "      <td>-0.807198</td>\n",
       "      <td>-0.677098</td>\n",
       "    </tr>\n",
       "    <tr>\n",
       "      <th>1</th>\n",
       "      <td>-0.758967</td>\n",
       "      <td>-0.998960</td>\n",
       "      <td>0.409253</td>\n",
       "      <td>-0.932559</td>\n",
       "      <td>0.273365</td>\n",
       "      <td>0.470797</td>\n",
       "      <td>0.737546</td>\n",
       "      <td>-0.507242</td>\n",
       "      <td>2.508447</td>\n",
       "      <td>-0.807198</td>\n",
       "      <td>1.476891</td>\n",
       "    </tr>\n",
       "    <tr>\n",
       "      <th>2</th>\n",
       "      <td>-0.758967</td>\n",
       "      <td>-0.300477</td>\n",
       "      <td>0.409253</td>\n",
       "      <td>-0.409276</td>\n",
       "      <td>0.273365</td>\n",
       "      <td>0.470797</td>\n",
       "      <td>0.737546</td>\n",
       "      <td>1.971446</td>\n",
       "      <td>-0.398653</td>\n",
       "      <td>-0.807198</td>\n",
       "      <td>1.476891</td>\n",
       "    </tr>\n",
       "    <tr>\n",
       "      <th>3</th>\n",
       "      <td>-0.758967</td>\n",
       "      <td>-0.028844</td>\n",
       "      <td>0.409253</td>\n",
       "      <td>-0.123776</td>\n",
       "      <td>0.273365</td>\n",
       "      <td>0.470797</td>\n",
       "      <td>-1.355848</td>\n",
       "      <td>-0.507242</td>\n",
       "      <td>-0.398653</td>\n",
       "      <td>-0.807198</td>\n",
       "      <td>1.476891</td>\n",
       "    </tr>\n",
       "    <tr>\n",
       "      <th>4</th>\n",
       "      <td>1.212268</td>\n",
       "      <td>1.600951</td>\n",
       "      <td>0.409253</td>\n",
       "      <td>0.850269</td>\n",
       "      <td>0.273365</td>\n",
       "      <td>0.470797</td>\n",
       "      <td>0.737546</td>\n",
       "      <td>-0.507242</td>\n",
       "      <td>2.508447</td>\n",
       "      <td>-0.807198</td>\n",
       "      <td>1.476891</td>\n",
       "    </tr>\n",
       "  </tbody>\n",
       "</table>\n",
       "</div>"
      ],
      "text/plain": [
       "   Dependents  LoanAmount  Credit_History  total_income  \\\n",
       "0    0.226650   -0.196998        0.409253     -0.099243   \n",
       "1   -0.758967   -0.998960        0.409253     -0.932559   \n",
       "2   -0.758967   -0.300477        0.409253     -0.409276   \n",
       "3   -0.758967   -0.028844        0.409253     -0.123776   \n",
       "4    1.212268    1.600951        0.409253      0.850269   \n",
       "\n",
       "   Loan_Amount_Term_Years  Gender_Male  Married_Yes  Education_Not Graduate  \\\n",
       "0                0.273365     0.470797     0.737546               -0.507242   \n",
       "1                0.273365     0.470797     0.737546               -0.507242   \n",
       "2                0.273365     0.470797     0.737546                1.971446   \n",
       "3                0.273365     0.470797    -1.355848               -0.507242   \n",
       "4                0.273365     0.470797     0.737546               -0.507242   \n",
       "\n",
       "   Self_Employed_Yes  Property_Area_Semiurban  Property_Area_Urban  \n",
       "0          -0.398653                -0.807198            -0.677098  \n",
       "1           2.508447                -0.807198             1.476891  \n",
       "2          -0.398653                -0.807198             1.476891  \n",
       "3          -0.398653                -0.807198             1.476891  \n",
       "4           2.508447                -0.807198             1.476891  "
      ]
     },
     "execution_count": 125,
     "metadata": {},
     "output_type": "execute_result"
    }
   ],
   "source": [
    "scaled_df.head()"
   ]
  },
  {
   "cell_type": "code",
   "execution_count": 126,
   "metadata": {},
   "outputs": [],
   "source": [
    "from sklearn.model_selection import RandomizedSearchCV"
   ]
  },
  {
   "cell_type": "code",
   "execution_count": 192,
   "metadata": {},
   "outputs": [],
   "source": [
    "n_estimators = [i for i in range(100,1000,10)]\n",
    "criterion = ['gini','entropy']\n",
    "max_depth = [i for i in range(1,20,1)]\n",
    "max_depth.append(None)\n",
    "min_samples_split = [i for i in range(2,10,2)]\n",
    "min_samples_leaf = [i for i in range(1,100,1)]\n",
    "max_features = [2,3,4,'auto','sqrt','log2',None]\n",
    "random_state = [i for i in range(0,1000,100)]\n",
    "max_samples = [2,3,4,5,6]"
   ]
  },
  {
   "cell_type": "code",
   "execution_count": 193,
   "metadata": {},
   "outputs": [
    {
     "data": {
      "text/plain": [
       "[2, 3, 4, 5, 6]"
      ]
     },
     "execution_count": 193,
     "metadata": {},
     "output_type": "execute_result"
    }
   ],
   "source": [
    "max_samples"
   ]
  },
  {
   "cell_type": "code",
   "execution_count": 194,
   "metadata": {},
   "outputs": [],
   "source": [
    "Random_Forest_model = RandomForestClassifier()"
   ]
  },
  {
   "cell_type": "code",
   "execution_count": 195,
   "metadata": {},
   "outputs": [],
   "source": [
    "params = {'n_estimators' : n_estimators,\n",
    "         'criterion': criterion, 'max_depth': max_depth,\n",
    "         'min_samples_split' :min_samples_split ,\n",
    "         'min_samples_leaf' :min_samples_leaf,\n",
    "         'max_features' :max_features,\n",
    "         'random_state'  : random_state,\n",
    "         'max_samples' : max_samples}"
   ]
  },
  {
   "cell_type": "code",
   "execution_count": 196,
   "metadata": {},
   "outputs": [
    {
     "name": "stdout",
     "output_type": "stream",
     "text": [
      "{'n_estimators': [100, 110, 120, 130, 140, 150, 160, 170, 180, 190, 200, 210, 220, 230, 240, 250, 260, 270, 280, 290, 300, 310, 320, 330, 340, 350, 360, 370, 380, 390, 400, 410, 420, 430, 440, 450, 460, 470, 480, 490, 500, 510, 520, 530, 540, 550, 560, 570, 580, 590, 600, 610, 620, 630, 640, 650, 660, 670, 680, 690, 700, 710, 720, 730, 740, 750, 760, 770, 780, 790, 800, 810, 820, 830, 840, 850, 860, 870, 880, 890, 900, 910, 920, 930, 940, 950, 960, 970, 980, 990], 'criterion': ['gini', 'entropy'], 'max_depth': [1, 2, 3, 4, 5, 6, 7, 8, 9, 10, 11, 12, 13, 14, 15, 16, 17, 18, 19, None], 'min_samples_split': [2, 4, 6, 8], 'min_samples_leaf': [1, 2, 3, 4, 5, 6, 7, 8, 9, 10, 11, 12, 13, 14, 15, 16, 17, 18, 19, 20, 21, 22, 23, 24, 25, 26, 27, 28, 29, 30, 31, 32, 33, 34, 35, 36, 37, 38, 39, 40, 41, 42, 43, 44, 45, 46, 47, 48, 49, 50, 51, 52, 53, 54, 55, 56, 57, 58, 59, 60, 61, 62, 63, 64, 65, 66, 67, 68, 69, 70, 71, 72, 73, 74, 75, 76, 77, 78, 79, 80, 81, 82, 83, 84, 85, 86, 87, 88, 89, 90, 91, 92, 93, 94, 95, 96, 97, 98, 99], 'max_features': [2, 3, 4, 'auto', 'sqrt', 'log2', None], 'random_state': [0, 100, 200, 300, 400, 500, 600, 700, 800, 900], 'max_samples': [2, 3, 4, 5, 6]}\n"
     ]
    }
   ],
   "source": [
    "print(params)"
   ]
  },
  {
   "cell_type": "code",
   "execution_count": 197,
   "metadata": {},
   "outputs": [],
   "source": [
    "random_search_forest = RandomizedSearchCV(Random_Forest_model, param_distributions = params , cv =10 ,verbose = 12,scoring ='roc_auc' )"
   ]
  },
  {
   "cell_type": "code",
   "execution_count": 198,
   "metadata": {
    "scrolled": true
   },
   "outputs": [
    {
     "name": "stdout",
     "output_type": "stream",
     "text": [
      "Fitting 10 folds for each of 10 candidates, totalling 100 fits\n",
      "[CV] random_state=500, n_estimators=680, min_samples_split=8, min_samples_leaf=64, max_samples=6, max_features=log2, max_depth=11, criterion=entropy \n"
     ]
    },
    {
     "name": "stderr",
     "output_type": "stream",
     "text": [
      "[Parallel(n_jobs=1)]: Using backend SequentialBackend with 1 concurrent workers.\n"
     ]
    },
    {
     "name": "stdout",
     "output_type": "stream",
     "text": [
      "[CV]  random_state=500, n_estimators=680, min_samples_split=8, min_samples_leaf=64, max_samples=6, max_features=log2, max_depth=11, criterion=entropy, score=0.500, total=   1.9s\n",
      "[CV] random_state=500, n_estimators=680, min_samples_split=8, min_samples_leaf=64, max_samples=6, max_features=log2, max_depth=11, criterion=entropy \n"
     ]
    },
    {
     "name": "stderr",
     "output_type": "stream",
     "text": [
      "[Parallel(n_jobs=1)]: Done   1 out of   1 | elapsed:    1.8s remaining:    0.0s\n"
     ]
    },
    {
     "name": "stdout",
     "output_type": "stream",
     "text": [
      "[CV]  random_state=500, n_estimators=680, min_samples_split=8, min_samples_leaf=64, max_samples=6, max_features=log2, max_depth=11, criterion=entropy, score=0.500, total=   1.7s\n",
      "[CV] random_state=500, n_estimators=680, min_samples_split=8, min_samples_leaf=64, max_samples=6, max_features=log2, max_depth=11, criterion=entropy \n"
     ]
    },
    {
     "name": "stderr",
     "output_type": "stream",
     "text": [
      "[Parallel(n_jobs=1)]: Done   2 out of   2 | elapsed:    3.6s remaining:    0.0s\n"
     ]
    },
    {
     "name": "stdout",
     "output_type": "stream",
     "text": [
      "[CV]  random_state=500, n_estimators=680, min_samples_split=8, min_samples_leaf=64, max_samples=6, max_features=log2, max_depth=11, criterion=entropy, score=0.500, total=   1.7s\n",
      "[CV] random_state=500, n_estimators=680, min_samples_split=8, min_samples_leaf=64, max_samples=6, max_features=log2, max_depth=11, criterion=entropy \n"
     ]
    },
    {
     "name": "stderr",
     "output_type": "stream",
     "text": [
      "[Parallel(n_jobs=1)]: Done   3 out of   3 | elapsed:    5.3s remaining:    0.0s\n"
     ]
    },
    {
     "name": "stdout",
     "output_type": "stream",
     "text": [
      "[CV]  random_state=500, n_estimators=680, min_samples_split=8, min_samples_leaf=64, max_samples=6, max_features=log2, max_depth=11, criterion=entropy, score=0.500, total=   1.8s\n",
      "[CV] random_state=500, n_estimators=680, min_samples_split=8, min_samples_leaf=64, max_samples=6, max_features=log2, max_depth=11, criterion=entropy \n"
     ]
    },
    {
     "name": "stderr",
     "output_type": "stream",
     "text": [
      "[Parallel(n_jobs=1)]: Done   4 out of   4 | elapsed:    7.1s remaining:    0.0s\n"
     ]
    },
    {
     "name": "stdout",
     "output_type": "stream",
     "text": [
      "[CV]  random_state=500, n_estimators=680, min_samples_split=8, min_samples_leaf=64, max_samples=6, max_features=log2, max_depth=11, criterion=entropy, score=0.500, total=   1.8s\n",
      "[CV] random_state=500, n_estimators=680, min_samples_split=8, min_samples_leaf=64, max_samples=6, max_features=log2, max_depth=11, criterion=entropy \n"
     ]
    },
    {
     "name": "stderr",
     "output_type": "stream",
     "text": [
      "[Parallel(n_jobs=1)]: Done   5 out of   5 | elapsed:    8.9s remaining:    0.0s\n"
     ]
    },
    {
     "name": "stdout",
     "output_type": "stream",
     "text": [
      "[CV]  random_state=500, n_estimators=680, min_samples_split=8, min_samples_leaf=64, max_samples=6, max_features=log2, max_depth=11, criterion=entropy, score=0.500, total=   1.7s\n",
      "[CV] random_state=500, n_estimators=680, min_samples_split=8, min_samples_leaf=64, max_samples=6, max_features=log2, max_depth=11, criterion=entropy \n"
     ]
    },
    {
     "name": "stderr",
     "output_type": "stream",
     "text": [
      "[Parallel(n_jobs=1)]: Done   6 out of   6 | elapsed:   10.6s remaining:    0.0s\n"
     ]
    },
    {
     "name": "stdout",
     "output_type": "stream",
     "text": [
      "[CV]  random_state=500, n_estimators=680, min_samples_split=8, min_samples_leaf=64, max_samples=6, max_features=log2, max_depth=11, criterion=entropy, score=0.500, total=   1.8s\n",
      "[CV] random_state=500, n_estimators=680, min_samples_split=8, min_samples_leaf=64, max_samples=6, max_features=log2, max_depth=11, criterion=entropy \n"
     ]
    },
    {
     "name": "stderr",
     "output_type": "stream",
     "text": [
      "[Parallel(n_jobs=1)]: Done   7 out of   7 | elapsed:   12.4s remaining:    0.0s\n"
     ]
    },
    {
     "name": "stdout",
     "output_type": "stream",
     "text": [
      "[CV]  random_state=500, n_estimators=680, min_samples_split=8, min_samples_leaf=64, max_samples=6, max_features=log2, max_depth=11, criterion=entropy, score=0.500, total=   1.7s\n",
      "[CV] random_state=500, n_estimators=680, min_samples_split=8, min_samples_leaf=64, max_samples=6, max_features=log2, max_depth=11, criterion=entropy \n"
     ]
    },
    {
     "name": "stderr",
     "output_type": "stream",
     "text": [
      "[Parallel(n_jobs=1)]: Done   8 out of   8 | elapsed:   14.2s remaining:    0.0s\n"
     ]
    },
    {
     "name": "stdout",
     "output_type": "stream",
     "text": [
      "[CV]  random_state=500, n_estimators=680, min_samples_split=8, min_samples_leaf=64, max_samples=6, max_features=log2, max_depth=11, criterion=entropy, score=0.500, total=   1.7s\n",
      "[CV] random_state=500, n_estimators=680, min_samples_split=8, min_samples_leaf=64, max_samples=6, max_features=log2, max_depth=11, criterion=entropy \n"
     ]
    },
    {
     "name": "stderr",
     "output_type": "stream",
     "text": [
      "[Parallel(n_jobs=1)]: Done   9 out of   9 | elapsed:   15.9s remaining:    0.0s\n"
     ]
    },
    {
     "name": "stdout",
     "output_type": "stream",
     "text": [
      "[CV]  random_state=500, n_estimators=680, min_samples_split=8, min_samples_leaf=64, max_samples=6, max_features=log2, max_depth=11, criterion=entropy, score=0.500, total=   1.8s\n",
      "[CV] random_state=600, n_estimators=610, min_samples_split=6, min_samples_leaf=71, max_samples=5, max_features=sqrt, max_depth=1, criterion=entropy \n"
     ]
    },
    {
     "name": "stderr",
     "output_type": "stream",
     "text": [
      "[Parallel(n_jobs=1)]: Done  10 out of  10 | elapsed:   17.7s remaining:    0.0s\n"
     ]
    },
    {
     "name": "stdout",
     "output_type": "stream",
     "text": [
      "[CV]  random_state=600, n_estimators=610, min_samples_split=6, min_samples_leaf=71, max_samples=5, max_features=sqrt, max_depth=1, criterion=entropy, score=0.500, total=   1.6s\n",
      "[CV] random_state=600, n_estimators=610, min_samples_split=6, min_samples_leaf=71, max_samples=5, max_features=sqrt, max_depth=1, criterion=entropy \n"
     ]
    },
    {
     "name": "stderr",
     "output_type": "stream",
     "text": [
      "[Parallel(n_jobs=1)]: Done  11 out of  11 | elapsed:   19.3s remaining:    0.0s\n"
     ]
    },
    {
     "name": "stdout",
     "output_type": "stream",
     "text": [
      "[CV]  random_state=600, n_estimators=610, min_samples_split=6, min_samples_leaf=71, max_samples=5, max_features=sqrt, max_depth=1, criterion=entropy, score=0.500, total=   1.5s\n",
      "[CV] random_state=600, n_estimators=610, min_samples_split=6, min_samples_leaf=71, max_samples=5, max_features=sqrt, max_depth=1, criterion=entropy \n",
      "[CV]  random_state=600, n_estimators=610, min_samples_split=6, min_samples_leaf=71, max_samples=5, max_features=sqrt, max_depth=1, criterion=entropy, score=0.500, total=   1.7s\n",
      "[CV] random_state=600, n_estimators=610, min_samples_split=6, min_samples_leaf=71, max_samples=5, max_features=sqrt, max_depth=1, criterion=entropy \n",
      "[CV]  random_state=600, n_estimators=610, min_samples_split=6, min_samples_leaf=71, max_samples=5, max_features=sqrt, max_depth=1, criterion=entropy, score=0.500, total=   1.5s\n",
      "[CV] random_state=600, n_estimators=610, min_samples_split=6, min_samples_leaf=71, max_samples=5, max_features=sqrt, max_depth=1, criterion=entropy \n",
      "[CV]  random_state=600, n_estimators=610, min_samples_split=6, min_samples_leaf=71, max_samples=5, max_features=sqrt, max_depth=1, criterion=entropy, score=0.500, total=   1.6s\n",
      "[CV] random_state=600, n_estimators=610, min_samples_split=6, min_samples_leaf=71, max_samples=5, max_features=sqrt, max_depth=1, criterion=entropy \n",
      "[CV]  random_state=600, n_estimators=610, min_samples_split=6, min_samples_leaf=71, max_samples=5, max_features=sqrt, max_depth=1, criterion=entropy, score=0.500, total=   1.5s\n",
      "[CV] random_state=600, n_estimators=610, min_samples_split=6, min_samples_leaf=71, max_samples=5, max_features=sqrt, max_depth=1, criterion=entropy \n",
      "[CV]  random_state=600, n_estimators=610, min_samples_split=6, min_samples_leaf=71, max_samples=5, max_features=sqrt, max_depth=1, criterion=entropy, score=0.500, total=   1.6s\n",
      "[CV] random_state=600, n_estimators=610, min_samples_split=6, min_samples_leaf=71, max_samples=5, max_features=sqrt, max_depth=1, criterion=entropy \n",
      "[CV]  random_state=600, n_estimators=610, min_samples_split=6, min_samples_leaf=71, max_samples=5, max_features=sqrt, max_depth=1, criterion=entropy, score=0.500, total=   1.5s\n",
      "[CV] random_state=600, n_estimators=610, min_samples_split=6, min_samples_leaf=71, max_samples=5, max_features=sqrt, max_depth=1, criterion=entropy \n",
      "[CV]  random_state=600, n_estimators=610, min_samples_split=6, min_samples_leaf=71, max_samples=5, max_features=sqrt, max_depth=1, criterion=entropy, score=0.500, total=   1.5s\n",
      "[CV] random_state=600, n_estimators=610, min_samples_split=6, min_samples_leaf=71, max_samples=5, max_features=sqrt, max_depth=1, criterion=entropy \n",
      "[CV]  random_state=600, n_estimators=610, min_samples_split=6, min_samples_leaf=71, max_samples=5, max_features=sqrt, max_depth=1, criterion=entropy, score=0.500, total=   1.7s\n",
      "[CV] random_state=600, n_estimators=230, min_samples_split=8, min_samples_leaf=88, max_samples=4, max_features=4, max_depth=11, criterion=entropy \n",
      "[CV]  random_state=600, n_estimators=230, min_samples_split=8, min_samples_leaf=88, max_samples=4, max_features=4, max_depth=11, criterion=entropy, score=0.500, total=   0.6s\n",
      "[CV] random_state=600, n_estimators=230, min_samples_split=8, min_samples_leaf=88, max_samples=4, max_features=4, max_depth=11, criterion=entropy \n",
      "[CV]  random_state=600, n_estimators=230, min_samples_split=8, min_samples_leaf=88, max_samples=4, max_features=4, max_depth=11, criterion=entropy, score=0.500, total=   0.6s\n",
      "[CV] random_state=600, n_estimators=230, min_samples_split=8, min_samples_leaf=88, max_samples=4, max_features=4, max_depth=11, criterion=entropy \n",
      "[CV]  random_state=600, n_estimators=230, min_samples_split=8, min_samples_leaf=88, max_samples=4, max_features=4, max_depth=11, criterion=entropy, score=0.500, total=   0.6s\n",
      "[CV] random_state=600, n_estimators=230, min_samples_split=8, min_samples_leaf=88, max_samples=4, max_features=4, max_depth=11, criterion=entropy \n",
      "[CV]  random_state=600, n_estimators=230, min_samples_split=8, min_samples_leaf=88, max_samples=4, max_features=4, max_depth=11, criterion=entropy, score=0.500, total=   0.6s\n",
      "[CV] random_state=600, n_estimators=230, min_samples_split=8, min_samples_leaf=88, max_samples=4, max_features=4, max_depth=11, criterion=entropy \n",
      "[CV]  random_state=600, n_estimators=230, min_samples_split=8, min_samples_leaf=88, max_samples=4, max_features=4, max_depth=11, criterion=entropy, score=0.500, total=   0.6s\n",
      "[CV] random_state=600, n_estimators=230, min_samples_split=8, min_samples_leaf=88, max_samples=4, max_features=4, max_depth=11, criterion=entropy \n",
      "[CV]  random_state=600, n_estimators=230, min_samples_split=8, min_samples_leaf=88, max_samples=4, max_features=4, max_depth=11, criterion=entropy, score=0.500, total=   0.6s\n",
      "[CV] random_state=600, n_estimators=230, min_samples_split=8, min_samples_leaf=88, max_samples=4, max_features=4, max_depth=11, criterion=entropy \n",
      "[CV]  random_state=600, n_estimators=230, min_samples_split=8, min_samples_leaf=88, max_samples=4, max_features=4, max_depth=11, criterion=entropy, score=0.500, total=   0.6s\n",
      "[CV] random_state=600, n_estimators=230, min_samples_split=8, min_samples_leaf=88, max_samples=4, max_features=4, max_depth=11, criterion=entropy \n",
      "[CV]  random_state=600, n_estimators=230, min_samples_split=8, min_samples_leaf=88, max_samples=4, max_features=4, max_depth=11, criterion=entropy, score=0.500, total=   0.6s\n",
      "[CV] random_state=600, n_estimators=230, min_samples_split=8, min_samples_leaf=88, max_samples=4, max_features=4, max_depth=11, criterion=entropy \n",
      "[CV]  random_state=600, n_estimators=230, min_samples_split=8, min_samples_leaf=88, max_samples=4, max_features=4, max_depth=11, criterion=entropy, score=0.500, total=   0.7s\n",
      "[CV] random_state=600, n_estimators=230, min_samples_split=8, min_samples_leaf=88, max_samples=4, max_features=4, max_depth=11, criterion=entropy \n",
      "[CV]  random_state=600, n_estimators=230, min_samples_split=8, min_samples_leaf=88, max_samples=4, max_features=4, max_depth=11, criterion=entropy, score=0.500, total=   0.6s\n",
      "[CV] random_state=700, n_estimators=140, min_samples_split=8, min_samples_leaf=87, max_samples=5, max_features=None, max_depth=8, criterion=gini \n",
      "[CV]  random_state=700, n_estimators=140, min_samples_split=8, min_samples_leaf=87, max_samples=5, max_features=None, max_depth=8, criterion=gini, score=0.500, total=   0.4s\n",
      "[CV] random_state=700, n_estimators=140, min_samples_split=8, min_samples_leaf=87, max_samples=5, max_features=None, max_depth=8, criterion=gini \n",
      "[CV]  random_state=700, n_estimators=140, min_samples_split=8, min_samples_leaf=87, max_samples=5, max_features=None, max_depth=8, criterion=gini, score=0.500, total=   0.4s\n",
      "[CV] random_state=700, n_estimators=140, min_samples_split=8, min_samples_leaf=87, max_samples=5, max_features=None, max_depth=8, criterion=gini \n",
      "[CV]  random_state=700, n_estimators=140, min_samples_split=8, min_samples_leaf=87, max_samples=5, max_features=None, max_depth=8, criterion=gini, score=0.500, total=   0.4s\n",
      "[CV] random_state=700, n_estimators=140, min_samples_split=8, min_samples_leaf=87, max_samples=5, max_features=None, max_depth=8, criterion=gini \n",
      "[CV]  random_state=700, n_estimators=140, min_samples_split=8, min_samples_leaf=87, max_samples=5, max_features=None, max_depth=8, criterion=gini, score=0.500, total=   0.3s\n",
      "[CV] random_state=700, n_estimators=140, min_samples_split=8, min_samples_leaf=87, max_samples=5, max_features=None, max_depth=8, criterion=gini \n",
      "[CV]  random_state=700, n_estimators=140, min_samples_split=8, min_samples_leaf=87, max_samples=5, max_features=None, max_depth=8, criterion=gini, score=0.500, total=   0.4s\n",
      "[CV] random_state=700, n_estimators=140, min_samples_split=8, min_samples_leaf=87, max_samples=5, max_features=None, max_depth=8, criterion=gini \n",
      "[CV]  random_state=700, n_estimators=140, min_samples_split=8, min_samples_leaf=87, max_samples=5, max_features=None, max_depth=8, criterion=gini, score=0.500, total=   0.4s\n",
      "[CV] random_state=700, n_estimators=140, min_samples_split=8, min_samples_leaf=87, max_samples=5, max_features=None, max_depth=8, criterion=gini \n",
      "[CV]  random_state=700, n_estimators=140, min_samples_split=8, min_samples_leaf=87, max_samples=5, max_features=None, max_depth=8, criterion=gini, score=0.500, total=   0.4s\n",
      "[CV] random_state=700, n_estimators=140, min_samples_split=8, min_samples_leaf=87, max_samples=5, max_features=None, max_depth=8, criterion=gini \n"
     ]
    },
    {
     "name": "stdout",
     "output_type": "stream",
     "text": [
      "[CV]  random_state=700, n_estimators=140, min_samples_split=8, min_samples_leaf=87, max_samples=5, max_features=None, max_depth=8, criterion=gini, score=0.500, total=   0.4s\n",
      "[CV] random_state=700, n_estimators=140, min_samples_split=8, min_samples_leaf=87, max_samples=5, max_features=None, max_depth=8, criterion=gini \n",
      "[CV]  random_state=700, n_estimators=140, min_samples_split=8, min_samples_leaf=87, max_samples=5, max_features=None, max_depth=8, criterion=gini, score=0.500, total=   0.3s\n",
      "[CV] random_state=700, n_estimators=140, min_samples_split=8, min_samples_leaf=87, max_samples=5, max_features=None, max_depth=8, criterion=gini \n",
      "[CV]  random_state=700, n_estimators=140, min_samples_split=8, min_samples_leaf=87, max_samples=5, max_features=None, max_depth=8, criterion=gini, score=0.500, total=   0.3s\n",
      "[CV] random_state=100, n_estimators=470, min_samples_split=8, min_samples_leaf=48, max_samples=5, max_features=None, max_depth=15, criterion=entropy \n",
      "[CV]  random_state=100, n_estimators=470, min_samples_split=8, min_samples_leaf=48, max_samples=5, max_features=None, max_depth=15, criterion=entropy, score=0.500, total=   1.3s\n",
      "[CV] random_state=100, n_estimators=470, min_samples_split=8, min_samples_leaf=48, max_samples=5, max_features=None, max_depth=15, criterion=entropy \n",
      "[CV]  random_state=100, n_estimators=470, min_samples_split=8, min_samples_leaf=48, max_samples=5, max_features=None, max_depth=15, criterion=entropy, score=0.500, total=   1.4s\n",
      "[CV] random_state=100, n_estimators=470, min_samples_split=8, min_samples_leaf=48, max_samples=5, max_features=None, max_depth=15, criterion=entropy \n",
      "[CV]  random_state=100, n_estimators=470, min_samples_split=8, min_samples_leaf=48, max_samples=5, max_features=None, max_depth=15, criterion=entropy, score=0.500, total=   1.2s\n",
      "[CV] random_state=100, n_estimators=470, min_samples_split=8, min_samples_leaf=48, max_samples=5, max_features=None, max_depth=15, criterion=entropy \n",
      "[CV]  random_state=100, n_estimators=470, min_samples_split=8, min_samples_leaf=48, max_samples=5, max_features=None, max_depth=15, criterion=entropy, score=0.500, total=   1.1s\n",
      "[CV] random_state=100, n_estimators=470, min_samples_split=8, min_samples_leaf=48, max_samples=5, max_features=None, max_depth=15, criterion=entropy \n",
      "[CV]  random_state=100, n_estimators=470, min_samples_split=8, min_samples_leaf=48, max_samples=5, max_features=None, max_depth=15, criterion=entropy, score=0.500, total=   1.3s\n",
      "[CV] random_state=100, n_estimators=470, min_samples_split=8, min_samples_leaf=48, max_samples=5, max_features=None, max_depth=15, criterion=entropy \n",
      "[CV]  random_state=100, n_estimators=470, min_samples_split=8, min_samples_leaf=48, max_samples=5, max_features=None, max_depth=15, criterion=entropy, score=0.500, total=   1.2s\n",
      "[CV] random_state=100, n_estimators=470, min_samples_split=8, min_samples_leaf=48, max_samples=5, max_features=None, max_depth=15, criterion=entropy \n",
      "[CV]  random_state=100, n_estimators=470, min_samples_split=8, min_samples_leaf=48, max_samples=5, max_features=None, max_depth=15, criterion=entropy, score=0.500, total=   1.2s\n",
      "[CV] random_state=100, n_estimators=470, min_samples_split=8, min_samples_leaf=48, max_samples=5, max_features=None, max_depth=15, criterion=entropy \n",
      "[CV]  random_state=100, n_estimators=470, min_samples_split=8, min_samples_leaf=48, max_samples=5, max_features=None, max_depth=15, criterion=entropy, score=0.500, total=   1.1s\n",
      "[CV] random_state=100, n_estimators=470, min_samples_split=8, min_samples_leaf=48, max_samples=5, max_features=None, max_depth=15, criterion=entropy \n",
      "[CV]  random_state=100, n_estimators=470, min_samples_split=8, min_samples_leaf=48, max_samples=5, max_features=None, max_depth=15, criterion=entropy, score=0.500, total=   1.1s\n",
      "[CV] random_state=100, n_estimators=470, min_samples_split=8, min_samples_leaf=48, max_samples=5, max_features=None, max_depth=15, criterion=entropy \n",
      "[CV]  random_state=100, n_estimators=470, min_samples_split=8, min_samples_leaf=48, max_samples=5, max_features=None, max_depth=15, criterion=entropy, score=0.500, total=   1.3s\n",
      "[CV] random_state=600, n_estimators=940, min_samples_split=6, min_samples_leaf=77, max_samples=5, max_features=None, max_depth=14, criterion=entropy \n",
      "[CV]  random_state=600, n_estimators=940, min_samples_split=6, min_samples_leaf=77, max_samples=5, max_features=None, max_depth=14, criterion=entropy, score=0.500, total=   2.3s\n",
      "[CV] random_state=600, n_estimators=940, min_samples_split=6, min_samples_leaf=77, max_samples=5, max_features=None, max_depth=14, criterion=entropy \n",
      "[CV]  random_state=600, n_estimators=940, min_samples_split=6, min_samples_leaf=77, max_samples=5, max_features=None, max_depth=14, criterion=entropy, score=0.500, total=   2.4s\n",
      "[CV] random_state=600, n_estimators=940, min_samples_split=6, min_samples_leaf=77, max_samples=5, max_features=None, max_depth=14, criterion=entropy \n",
      "[CV]  random_state=600, n_estimators=940, min_samples_split=6, min_samples_leaf=77, max_samples=5, max_features=None, max_depth=14, criterion=entropy, score=0.500, total=   2.4s\n",
      "[CV] random_state=600, n_estimators=940, min_samples_split=6, min_samples_leaf=77, max_samples=5, max_features=None, max_depth=14, criterion=entropy \n",
      "[CV]  random_state=600, n_estimators=940, min_samples_split=6, min_samples_leaf=77, max_samples=5, max_features=None, max_depth=14, criterion=entropy, score=0.500, total=   2.3s\n",
      "[CV] random_state=600, n_estimators=940, min_samples_split=6, min_samples_leaf=77, max_samples=5, max_features=None, max_depth=14, criterion=entropy \n",
      "[CV]  random_state=600, n_estimators=940, min_samples_split=6, min_samples_leaf=77, max_samples=5, max_features=None, max_depth=14, criterion=entropy, score=0.500, total=   2.9s\n",
      "[CV] random_state=600, n_estimators=940, min_samples_split=6, min_samples_leaf=77, max_samples=5, max_features=None, max_depth=14, criterion=entropy \n",
      "[CV]  random_state=600, n_estimators=940, min_samples_split=6, min_samples_leaf=77, max_samples=5, max_features=None, max_depth=14, criterion=entropy, score=0.500, total=   2.3s\n",
      "[CV] random_state=600, n_estimators=940, min_samples_split=6, min_samples_leaf=77, max_samples=5, max_features=None, max_depth=14, criterion=entropy \n",
      "[CV]  random_state=600, n_estimators=940, min_samples_split=6, min_samples_leaf=77, max_samples=5, max_features=None, max_depth=14, criterion=entropy, score=0.500, total=   2.5s\n",
      "[CV] random_state=600, n_estimators=940, min_samples_split=6, min_samples_leaf=77, max_samples=5, max_features=None, max_depth=14, criterion=entropy \n",
      "[CV]  random_state=600, n_estimators=940, min_samples_split=6, min_samples_leaf=77, max_samples=5, max_features=None, max_depth=14, criterion=entropy, score=0.500, total=   2.3s\n",
      "[CV] random_state=600, n_estimators=940, min_samples_split=6, min_samples_leaf=77, max_samples=5, max_features=None, max_depth=14, criterion=entropy \n",
      "[CV]  random_state=600, n_estimators=940, min_samples_split=6, min_samples_leaf=77, max_samples=5, max_features=None, max_depth=14, criterion=entropy, score=0.500, total=   2.5s\n",
      "[CV] random_state=600, n_estimators=940, min_samples_split=6, min_samples_leaf=77, max_samples=5, max_features=None, max_depth=14, criterion=entropy \n",
      "[CV]  random_state=600, n_estimators=940, min_samples_split=6, min_samples_leaf=77, max_samples=5, max_features=None, max_depth=14, criterion=entropy, score=0.500, total=   2.3s\n",
      "[CV] random_state=300, n_estimators=400, min_samples_split=4, min_samples_leaf=84, max_samples=5, max_features=2, max_depth=8, criterion=entropy \n",
      "[CV]  random_state=300, n_estimators=400, min_samples_split=4, min_samples_leaf=84, max_samples=5, max_features=2, max_depth=8, criterion=entropy, score=0.500, total=   1.0s\n",
      "[CV] random_state=300, n_estimators=400, min_samples_split=4, min_samples_leaf=84, max_samples=5, max_features=2, max_depth=8, criterion=entropy \n",
      "[CV]  random_state=300, n_estimators=400, min_samples_split=4, min_samples_leaf=84, max_samples=5, max_features=2, max_depth=8, criterion=entropy, score=0.500, total=   1.0s\n",
      "[CV] random_state=300, n_estimators=400, min_samples_split=4, min_samples_leaf=84, max_samples=5, max_features=2, max_depth=8, criterion=entropy \n",
      "[CV]  random_state=300, n_estimators=400, min_samples_split=4, min_samples_leaf=84, max_samples=5, max_features=2, max_depth=8, criterion=entropy, score=0.500, total=   1.1s\n",
      "[CV] random_state=300, n_estimators=400, min_samples_split=4, min_samples_leaf=84, max_samples=5, max_features=2, max_depth=8, criterion=entropy \n"
     ]
    },
    {
     "name": "stdout",
     "output_type": "stream",
     "text": [
      "[CV]  random_state=300, n_estimators=400, min_samples_split=4, min_samples_leaf=84, max_samples=5, max_features=2, max_depth=8, criterion=entropy, score=0.500, total=   1.0s\n",
      "[CV] random_state=300, n_estimators=400, min_samples_split=4, min_samples_leaf=84, max_samples=5, max_features=2, max_depth=8, criterion=entropy \n",
      "[CV]  random_state=300, n_estimators=400, min_samples_split=4, min_samples_leaf=84, max_samples=5, max_features=2, max_depth=8, criterion=entropy, score=0.500, total=   1.0s\n",
      "[CV] random_state=300, n_estimators=400, min_samples_split=4, min_samples_leaf=84, max_samples=5, max_features=2, max_depth=8, criterion=entropy \n",
      "[CV]  random_state=300, n_estimators=400, min_samples_split=4, min_samples_leaf=84, max_samples=5, max_features=2, max_depth=8, criterion=entropy, score=0.500, total=   1.0s\n",
      "[CV] random_state=300, n_estimators=400, min_samples_split=4, min_samples_leaf=84, max_samples=5, max_features=2, max_depth=8, criterion=entropy \n",
      "[CV]  random_state=300, n_estimators=400, min_samples_split=4, min_samples_leaf=84, max_samples=5, max_features=2, max_depth=8, criterion=entropy, score=0.500, total=   1.0s\n",
      "[CV] random_state=300, n_estimators=400, min_samples_split=4, min_samples_leaf=84, max_samples=5, max_features=2, max_depth=8, criterion=entropy \n",
      "[CV]  random_state=300, n_estimators=400, min_samples_split=4, min_samples_leaf=84, max_samples=5, max_features=2, max_depth=8, criterion=entropy, score=0.500, total=   1.2s\n",
      "[CV] random_state=300, n_estimators=400, min_samples_split=4, min_samples_leaf=84, max_samples=5, max_features=2, max_depth=8, criterion=entropy \n",
      "[CV]  random_state=300, n_estimators=400, min_samples_split=4, min_samples_leaf=84, max_samples=5, max_features=2, max_depth=8, criterion=entropy, score=0.500, total=   1.1s\n",
      "[CV] random_state=300, n_estimators=400, min_samples_split=4, min_samples_leaf=84, max_samples=5, max_features=2, max_depth=8, criterion=entropy \n",
      "[CV]  random_state=300, n_estimators=400, min_samples_split=4, min_samples_leaf=84, max_samples=5, max_features=2, max_depth=8, criterion=entropy, score=0.500, total=   1.0s\n",
      "[CV] random_state=100, n_estimators=570, min_samples_split=4, min_samples_leaf=5, max_samples=2, max_features=log2, max_depth=3, criterion=entropy \n",
      "[CV]  random_state=100, n_estimators=570, min_samples_split=4, min_samples_leaf=5, max_samples=2, max_features=log2, max_depth=3, criterion=entropy, score=0.500, total=   1.4s\n",
      "[CV] random_state=100, n_estimators=570, min_samples_split=4, min_samples_leaf=5, max_samples=2, max_features=log2, max_depth=3, criterion=entropy \n",
      "[CV]  random_state=100, n_estimators=570, min_samples_split=4, min_samples_leaf=5, max_samples=2, max_features=log2, max_depth=3, criterion=entropy, score=0.500, total=   1.6s\n",
      "[CV] random_state=100, n_estimators=570, min_samples_split=4, min_samples_leaf=5, max_samples=2, max_features=log2, max_depth=3, criterion=entropy \n",
      "[CV]  random_state=100, n_estimators=570, min_samples_split=4, min_samples_leaf=5, max_samples=2, max_features=log2, max_depth=3, criterion=entropy, score=0.500, total=   1.5s\n",
      "[CV] random_state=100, n_estimators=570, min_samples_split=4, min_samples_leaf=5, max_samples=2, max_features=log2, max_depth=3, criterion=entropy \n",
      "[CV]  random_state=100, n_estimators=570, min_samples_split=4, min_samples_leaf=5, max_samples=2, max_features=log2, max_depth=3, criterion=entropy, score=0.500, total=   1.4s\n",
      "[CV] random_state=100, n_estimators=570, min_samples_split=4, min_samples_leaf=5, max_samples=2, max_features=log2, max_depth=3, criterion=entropy \n",
      "[CV]  random_state=100, n_estimators=570, min_samples_split=4, min_samples_leaf=5, max_samples=2, max_features=log2, max_depth=3, criterion=entropy, score=0.500, total=   1.4s\n",
      "[CV] random_state=100, n_estimators=570, min_samples_split=4, min_samples_leaf=5, max_samples=2, max_features=log2, max_depth=3, criterion=entropy \n",
      "[CV]  random_state=100, n_estimators=570, min_samples_split=4, min_samples_leaf=5, max_samples=2, max_features=log2, max_depth=3, criterion=entropy, score=0.500, total=   1.6s\n",
      "[CV] random_state=100, n_estimators=570, min_samples_split=4, min_samples_leaf=5, max_samples=2, max_features=log2, max_depth=3, criterion=entropy \n",
      "[CV]  random_state=100, n_estimators=570, min_samples_split=4, min_samples_leaf=5, max_samples=2, max_features=log2, max_depth=3, criterion=entropy, score=0.500, total=   1.4s\n",
      "[CV] random_state=100, n_estimators=570, min_samples_split=4, min_samples_leaf=5, max_samples=2, max_features=log2, max_depth=3, criterion=entropy \n",
      "[CV]  random_state=100, n_estimators=570, min_samples_split=4, min_samples_leaf=5, max_samples=2, max_features=log2, max_depth=3, criterion=entropy, score=0.500, total=   1.4s\n",
      "[CV] random_state=100, n_estimators=570, min_samples_split=4, min_samples_leaf=5, max_samples=2, max_features=log2, max_depth=3, criterion=entropy \n",
      "[CV]  random_state=100, n_estimators=570, min_samples_split=4, min_samples_leaf=5, max_samples=2, max_features=log2, max_depth=3, criterion=entropy, score=0.500, total=   1.5s\n",
      "[CV] random_state=100, n_estimators=570, min_samples_split=4, min_samples_leaf=5, max_samples=2, max_features=log2, max_depth=3, criterion=entropy \n",
      "[CV]  random_state=100, n_estimators=570, min_samples_split=4, min_samples_leaf=5, max_samples=2, max_features=log2, max_depth=3, criterion=entropy, score=0.500, total=   1.6s\n",
      "[CV] random_state=500, n_estimators=550, min_samples_split=6, min_samples_leaf=37, max_samples=5, max_features=2, max_depth=14, criterion=gini \n",
      "[CV]  random_state=500, n_estimators=550, min_samples_split=6, min_samples_leaf=37, max_samples=5, max_features=2, max_depth=14, criterion=gini, score=0.500, total=   1.4s\n",
      "[CV] random_state=500, n_estimators=550, min_samples_split=6, min_samples_leaf=37, max_samples=5, max_features=2, max_depth=14, criterion=gini \n",
      "[CV]  random_state=500, n_estimators=550, min_samples_split=6, min_samples_leaf=37, max_samples=5, max_features=2, max_depth=14, criterion=gini, score=0.500, total=   1.4s\n",
      "[CV] random_state=500, n_estimators=550, min_samples_split=6, min_samples_leaf=37, max_samples=5, max_features=2, max_depth=14, criterion=gini \n",
      "[CV]  random_state=500, n_estimators=550, min_samples_split=6, min_samples_leaf=37, max_samples=5, max_features=2, max_depth=14, criterion=gini, score=0.500, total=   1.6s\n",
      "[CV] random_state=500, n_estimators=550, min_samples_split=6, min_samples_leaf=37, max_samples=5, max_features=2, max_depth=14, criterion=gini \n",
      "[CV]  random_state=500, n_estimators=550, min_samples_split=6, min_samples_leaf=37, max_samples=5, max_features=2, max_depth=14, criterion=gini, score=0.500, total=   1.4s\n",
      "[CV] random_state=500, n_estimators=550, min_samples_split=6, min_samples_leaf=37, max_samples=5, max_features=2, max_depth=14, criterion=gini \n",
      "[CV]  random_state=500, n_estimators=550, min_samples_split=6, min_samples_leaf=37, max_samples=5, max_features=2, max_depth=14, criterion=gini, score=0.500, total=   1.3s\n",
      "[CV] random_state=500, n_estimators=550, min_samples_split=6, min_samples_leaf=37, max_samples=5, max_features=2, max_depth=14, criterion=gini \n",
      "[CV]  random_state=500, n_estimators=550, min_samples_split=6, min_samples_leaf=37, max_samples=5, max_features=2, max_depth=14, criterion=gini, score=0.500, total=   1.6s\n",
      "[CV] random_state=500, n_estimators=550, min_samples_split=6, min_samples_leaf=37, max_samples=5, max_features=2, max_depth=14, criterion=gini \n",
      "[CV]  random_state=500, n_estimators=550, min_samples_split=6, min_samples_leaf=37, max_samples=5, max_features=2, max_depth=14, criterion=gini, score=0.500, total=   1.6s\n",
      "[CV] random_state=500, n_estimators=550, min_samples_split=6, min_samples_leaf=37, max_samples=5, max_features=2, max_depth=14, criterion=gini \n",
      "[CV]  random_state=500, n_estimators=550, min_samples_split=6, min_samples_leaf=37, max_samples=5, max_features=2, max_depth=14, criterion=gini, score=0.500, total=   1.4s\n",
      "[CV] random_state=500, n_estimators=550, min_samples_split=6, min_samples_leaf=37, max_samples=5, max_features=2, max_depth=14, criterion=gini \n",
      "[CV]  random_state=500, n_estimators=550, min_samples_split=6, min_samples_leaf=37, max_samples=5, max_features=2, max_depth=14, criterion=gini, score=0.500, total=   1.3s\n",
      "[CV] random_state=500, n_estimators=550, min_samples_split=6, min_samples_leaf=37, max_samples=5, max_features=2, max_depth=14, criterion=gini \n"
     ]
    },
    {
     "name": "stdout",
     "output_type": "stream",
     "text": [
      "[CV]  random_state=500, n_estimators=550, min_samples_split=6, min_samples_leaf=37, max_samples=5, max_features=2, max_depth=14, criterion=gini, score=0.500, total=   1.3s\n",
      "[CV] random_state=100, n_estimators=300, min_samples_split=4, min_samples_leaf=9, max_samples=2, max_features=2, max_depth=13, criterion=gini \n",
      "[CV]  random_state=100, n_estimators=300, min_samples_split=4, min_samples_leaf=9, max_samples=2, max_features=2, max_depth=13, criterion=gini, score=0.500, total=   0.9s\n",
      "[CV] random_state=100, n_estimators=300, min_samples_split=4, min_samples_leaf=9, max_samples=2, max_features=2, max_depth=13, criterion=gini \n",
      "[CV]  random_state=100, n_estimators=300, min_samples_split=4, min_samples_leaf=9, max_samples=2, max_features=2, max_depth=13, criterion=gini, score=0.500, total=   0.8s\n",
      "[CV] random_state=100, n_estimators=300, min_samples_split=4, min_samples_leaf=9, max_samples=2, max_features=2, max_depth=13, criterion=gini \n",
      "[CV]  random_state=100, n_estimators=300, min_samples_split=4, min_samples_leaf=9, max_samples=2, max_features=2, max_depth=13, criterion=gini, score=0.500, total=   0.7s\n",
      "[CV] random_state=100, n_estimators=300, min_samples_split=4, min_samples_leaf=9, max_samples=2, max_features=2, max_depth=13, criterion=gini \n",
      "[CV]  random_state=100, n_estimators=300, min_samples_split=4, min_samples_leaf=9, max_samples=2, max_features=2, max_depth=13, criterion=gini, score=0.500, total=   0.7s\n",
      "[CV] random_state=100, n_estimators=300, min_samples_split=4, min_samples_leaf=9, max_samples=2, max_features=2, max_depth=13, criterion=gini \n",
      "[CV]  random_state=100, n_estimators=300, min_samples_split=4, min_samples_leaf=9, max_samples=2, max_features=2, max_depth=13, criterion=gini, score=0.500, total=   0.7s\n",
      "[CV] random_state=100, n_estimators=300, min_samples_split=4, min_samples_leaf=9, max_samples=2, max_features=2, max_depth=13, criterion=gini \n",
      "[CV]  random_state=100, n_estimators=300, min_samples_split=4, min_samples_leaf=9, max_samples=2, max_features=2, max_depth=13, criterion=gini, score=0.500, total=   0.7s\n",
      "[CV] random_state=100, n_estimators=300, min_samples_split=4, min_samples_leaf=9, max_samples=2, max_features=2, max_depth=13, criterion=gini \n",
      "[CV]  random_state=100, n_estimators=300, min_samples_split=4, min_samples_leaf=9, max_samples=2, max_features=2, max_depth=13, criterion=gini, score=0.500, total=   0.7s\n",
      "[CV] random_state=100, n_estimators=300, min_samples_split=4, min_samples_leaf=9, max_samples=2, max_features=2, max_depth=13, criterion=gini \n",
      "[CV]  random_state=100, n_estimators=300, min_samples_split=4, min_samples_leaf=9, max_samples=2, max_features=2, max_depth=13, criterion=gini, score=0.500, total=   0.9s\n",
      "[CV] random_state=100, n_estimators=300, min_samples_split=4, min_samples_leaf=9, max_samples=2, max_features=2, max_depth=13, criterion=gini \n",
      "[CV]  random_state=100, n_estimators=300, min_samples_split=4, min_samples_leaf=9, max_samples=2, max_features=2, max_depth=13, criterion=gini, score=0.500, total=   0.8s\n",
      "[CV] random_state=100, n_estimators=300, min_samples_split=4, min_samples_leaf=9, max_samples=2, max_features=2, max_depth=13, criterion=gini \n",
      "[CV]  random_state=100, n_estimators=300, min_samples_split=4, min_samples_leaf=9, max_samples=2, max_features=2, max_depth=13, criterion=gini, score=0.500, total=   0.7s\n"
     ]
    },
    {
     "name": "stderr",
     "output_type": "stream",
     "text": [
      "[Parallel(n_jobs=1)]: Done 100 out of 100 | elapsed:  2.1min finished\n"
     ]
    },
    {
     "data": {
      "text/plain": [
       "RandomizedSearchCV(cv=10, estimator=RandomForestClassifier(),\n",
       "                   param_distributions={'criterion': ['gini', 'entropy'],\n",
       "                                        'max_depth': [1, 2, 3, 4, 5, 6, 7, 8, 9,\n",
       "                                                      10, 11, 12, 13, 14, 15,\n",
       "                                                      16, 17, 18, 19, None],\n",
       "                                        'max_features': [2, 3, 4, 'auto',\n",
       "                                                         'sqrt', 'log2', None],\n",
       "                                        'max_samples': [2, 3, 4, 5, 6],\n",
       "                                        'min_samples_leaf': [1, 2, 3, 4, 5, 6,\n",
       "                                                             7, 8, 9, 10, 11,\n",
       "                                                             12, 13, 14, 15, 16,\n",
       "                                                             17, 18, 19, 20, 21,\n",
       "                                                             22, 23, 24, 25, 26,\n",
       "                                                             27, 28, 29, 30, ...],\n",
       "                                        'min_samples_split': [2, 4, 6, 8],\n",
       "                                        'n_estimators': [100, 110, 120, 130,\n",
       "                                                         140, 150, 160, 170,\n",
       "                                                         180, 190, 200, 210,\n",
       "                                                         220, 230, 240, 250,\n",
       "                                                         260, 270, 280, 290,\n",
       "                                                         300, 310, 320, 330,\n",
       "                                                         340, 350, 360, 370,\n",
       "                                                         380, 390, ...],\n",
       "                                        'random_state': [0, 100, 200, 300, 400,\n",
       "                                                         500, 600, 700, 800,\n",
       "                                                         900]},\n",
       "                   scoring='roc_auc', verbose=12)"
      ]
     },
     "execution_count": 198,
     "metadata": {},
     "output_type": "execute_result"
    }
   ],
   "source": [
    "random_search_forest.fit(scaled_df.values, y.values.ravel())"
   ]
  },
  {
   "cell_type": "code",
   "execution_count": 199,
   "metadata": {},
   "outputs": [
    {
     "data": {
      "text/plain": [
       "{'random_state': 500,\n",
       " 'n_estimators': 680,\n",
       " 'min_samples_split': 8,\n",
       " 'min_samples_leaf': 64,\n",
       " 'max_samples': 6,\n",
       " 'max_features': 'log2',\n",
       " 'max_depth': 11,\n",
       " 'criterion': 'entropy'}"
      ]
     },
     "execution_count": 199,
     "metadata": {},
     "output_type": "execute_result"
    }
   ],
   "source": [
    "random_search_forest.best_params_"
   ]
  },
  {
   "cell_type": "code",
   "execution_count": 210,
   "metadata": {},
   "outputs": [],
   "source": [
    "r_forest = RandomForestClassifier(random_state = 500,\n",
    "                                 n_estimators = 500,\n",
    "                                 min_samples_split = 8,\n",
    "                                 min_samples_leaf = 64,\n",
    "                                 max_samples = 6,\n",
    "                                 max_features = 'log2',\n",
    "                                 max_depth = 11,\n",
    "                                 criterion = 'entropy')"
   ]
  },
  {
   "cell_type": "code",
   "execution_count": 211,
   "metadata": {},
   "outputs": [],
   "source": [
    "X_train, X_test, y_train, y_test = train_test_split(scaled_df, y, test_size=0.20, random_state=500)"
   ]
  },
  {
   "cell_type": "code",
   "execution_count": 212,
   "metadata": {},
   "outputs": [],
   "source": [
    "Random_Forest_model = r_forest.fit(X_train.values,y_train.values.ravel())\n",
    "y_pred = Random_Forest_model.predict(X_test)"
   ]
  },
  {
   "cell_type": "code",
   "execution_count": 213,
   "metadata": {},
   "outputs": [
    {
     "data": {
      "text/plain": [
       "array([1, 1, 1, 1, 1, 1, 0, 0, 1, 1, 1, 1, 0, 1, 1, 1, 1, 1, 1, 1, 1, 1,\n",
       "       1, 1, 0, 1, 1, 1, 1, 1, 0, 1, 1, 1, 0, 1, 0, 0, 1, 1, 0, 1, 1, 1,\n",
       "       0, 1, 0, 0, 1, 0, 0, 1, 1, 0, 1, 1, 1, 1, 0, 1, 0, 0, 1, 0, 1, 1,\n",
       "       1, 1, 0, 0, 1, 1, 0, 1, 1, 0, 1, 1, 1, 1, 0, 0, 0, 1, 1, 1, 1, 1,\n",
       "       1, 1, 1, 1, 1, 1, 1], dtype=uint8)"
      ]
     },
     "execution_count": 213,
     "metadata": {},
     "output_type": "execute_result"
    }
   ],
   "source": [
    "y_test.values.ravel()"
   ]
  },
  {
   "cell_type": "code",
   "execution_count": 214,
   "metadata": {},
   "outputs": [
    {
     "data": {
      "text/plain": [
       "array([1, 1, 1, 1, 1, 1, 1, 1, 1, 1, 1, 1, 1, 1, 1, 1, 1, 1, 1, 1, 1, 1,\n",
       "       1, 1, 1, 1, 1, 1, 1, 1, 1, 1, 1, 1, 1, 1, 1, 1, 1, 1, 1, 1, 1, 1,\n",
       "       1, 1, 1, 1, 1, 1, 1, 1, 1, 1, 1, 1, 1, 1, 1, 1, 1, 1, 1, 1, 1, 1,\n",
       "       1, 1, 1, 1, 1, 1, 1, 1, 1, 1, 1, 1, 1, 1, 1, 1, 1, 1, 1, 1, 1, 1,\n",
       "       1, 1, 1, 1, 1, 1, 1], dtype=uint8)"
      ]
     },
     "execution_count": 214,
     "metadata": {},
     "output_type": "execute_result"
    }
   ],
   "source": [
    "y_pred"
   ]
  },
  {
   "cell_type": "code",
   "execution_count": 215,
   "metadata": {},
   "outputs": [
    {
     "data": {
      "text/plain": [
       "0.7263157894736842"
      ]
     },
     "execution_count": 215,
     "metadata": {},
     "output_type": "execute_result"
    }
   ],
   "source": [
    "accuracy_score(y_test,y_pred)"
   ]
  },
  {
   "cell_type": "code",
   "execution_count": 216,
   "metadata": {},
   "outputs": [
    {
     "data": {
      "text/plain": [
       "array([[ 0, 26],\n",
       "       [ 0, 69]], dtype=int64)"
      ]
     },
     "execution_count": 216,
     "metadata": {},
     "output_type": "execute_result"
    }
   ],
   "source": [
    "confusion_matrix(y_test,y_pred)"
   ]
  },
  {
   "cell_type": "code",
   "execution_count": 190,
   "metadata": {},
   "outputs": [],
   "source": [
    "from sklearn.metrics import recall_score"
   ]
  },
  {
   "cell_type": "code",
   "execution_count": 191,
   "metadata": {},
   "outputs": [
    {
     "data": {
      "text/plain": [
       "1.0"
      ]
     },
     "execution_count": 191,
     "metadata": {},
     "output_type": "execute_result"
    }
   ],
   "source": [
    "recall_score(y_test,y_pred)"
   ]
  },
  {
   "cell_type": "code",
   "execution_count": null,
   "metadata": {},
   "outputs": [],
   "source": []
  }
 ],
 "metadata": {
  "kernelspec": {
   "display_name": "Python 3",
   "language": "python",
   "name": "python3"
  },
  "language_info": {
   "codemirror_mode": {
    "name": "ipython",
    "version": 3
   },
   "file_extension": ".py",
   "mimetype": "text/x-python",
   "name": "python",
   "nbconvert_exporter": "python",
   "pygments_lexer": "ipython3",
   "version": "3.7.6"
  }
 },
 "nbformat": 4,
 "nbformat_minor": 4
}
